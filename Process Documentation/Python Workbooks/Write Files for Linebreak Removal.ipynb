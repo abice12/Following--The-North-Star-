{
 "cells": [
  {
   "cell_type": "code",
   "execution_count": 5,
   "metadata": {},
   "outputs": [],
   "source": [
    "import os\n",
    "import string"
   ]
  },
  {
   "cell_type": "code",
   "execution_count": 6,
   "metadata": {},
   "outputs": [
    {
     "name": "stdout",
     "output_type": "stream",
     "text": [
      "/Users/alexanderbice/Desktop/Other Transcripts/Scrubbed_Files\n",
      "/Users/alexanderbice/Desktop/Other Transcripts/Lines_Broken\n"
     ]
    }
   ],
   "source": [
    "rawfolder=os.path.join(os.getcwd(),\"Scrubbed_Files\")\n",
    "print(rawfolder)\n",
    "outfolder=os.path.join(os.getcwd(),\"Lines_Broken\")\n",
    "print(outfolder)"
   ]
  },
  {
   "cell_type": "code",
   "execution_count": 7,
   "metadata": {},
   "outputs": [
    {
     "name": "stdout",
     "output_type": "stream",
     "text": [
      "['sn84026365:1849-09-14:ed-1.txt', '.DS_Store', 'sn84026365:1849-10-26:ed-1.txt', 'sn84026365:1849-05-18:ed-1.txt', 'sn84026365:1850-02-08:ed-1.txt', 'sn84026365:1849-12-14:ed-1.txt', 'sn84026365:1848-08-18:ed-1.txt']\n"
     ]
    }
   ],
   "source": [
    "file_list = os.listdir(rawfolder)\n",
    "print(file_list)"
   ]
  },
  {
   "cell_type": "code",
   "execution_count": 8,
   "metadata": {},
   "outputs": [],
   "source": [
    "for f in file_list:\n",
    "    if f.endswith('.txt'):\n",
    "        infile=open(os.path.join(rawfolder, f), mode='r', encoding='utf-8-sig')\n",
    "        file_text=infile.read()\n",
    "        fixed_text=file_text.replace('\\n','-')\n",
    "        outfile = open(f, \"w\")\n",
    "        outfile.write(fixed_text)\n",
    "        outfile.close()\n",
    "\n"
   ]
  },
  {
   "cell_type": "code",
   "execution_count": null,
   "metadata": {},
   "outputs": [],
   "source": []
  },
  {
   "cell_type": "code",
   "execution_count": null,
   "metadata": {},
   "outputs": [],
   "source": []
  }
 ],
 "metadata": {
  "kernelspec": {
   "display_name": "Python 3",
   "language": "python",
   "name": "python3"
  },
  "language_info": {
   "codemirror_mode": {
    "name": "ipython",
    "version": 3
   },
   "file_extension": ".py",
   "mimetype": "text/x-python",
   "name": "python",
   "nbconvert_exporter": "python",
   "pygments_lexer": "ipython3",
   "version": "3.7.3"
  }
 },
 "nbformat": 4,
 "nbformat_minor": 2
}
