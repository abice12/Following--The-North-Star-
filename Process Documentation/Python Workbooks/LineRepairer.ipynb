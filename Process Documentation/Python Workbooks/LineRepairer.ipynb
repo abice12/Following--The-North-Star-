{
 "cells": [
  {
   "cell_type": "code",
   "execution_count": 24,
   "metadata": {},
   "outputs": [],
   "source": [
    "import os\n",
    "import string\n",
    "import re"
   ]
  },
  {
   "cell_type": "code",
   "execution_count": 25,
   "metadata": {
    "scrolled": true
   },
   "outputs": [
    {
     "name": "stdout",
     "output_type": "stream",
     "text": [
      "/Users/alexanderbice/Desktop/Other Transcripts/Lines_Broken\n"
     ]
    }
   ],
   "source": [
    "datafolder=os.path.join(os.getcwd(),\"Lines_Broken\")\n",
    "print(datafolder)"
   ]
  },
  {
   "cell_type": "code",
   "execution_count": 26,
   "metadata": {},
   "outputs": [
    {
     "name": "stdout",
     "output_type": "stream",
     "text": [
      "['sn84026365:1849-09-14:ed-1.txt', '.DS_Store', 'sn84026365:1849-10-26:ed-1.txt', 'sn84026365:1849-05-18:ed-1.txt', 'sn84026365:1850-02-08:ed-1.txt', 'en_US.txt', 'sn84026365:1849-12-14:ed-1.txt', 'sn84026365:1848-08-18:ed-1.txt']\n"
     ]
    }
   ],
   "source": [
    "file_list = os.listdir(datafolder)\n",
    "print(file_list)"
   ]
  },
  {
   "cell_type": "code",
   "execution_count": 27,
   "metadata": {},
   "outputs": [],
   "source": [
    "dictfile=open(os.path.join(datafolder, \"en_US.txt\"), mode='r', encoding='utf-8')\n",
    "dictwords=dictfile.read()\n",
    "dictionary=dictwords.split()"
   ]
  },
  {
   "cell_type": "code",
   "execution_count": 28,
   "metadata": {},
   "outputs": [],
   "source": [
    "##d=dict()\n",
    "##for item in dictionary:\n",
    "   ##for word in dictionary:\n",
    "     ##d.setdefault(word, dictionary()).append(item)"
   ]
  },
  {
   "cell_type": "code",
   "execution_count": 29,
   "metadata": {},
   "outputs": [
    {
     "data": {
      "text/plain": [
       "True"
      ]
     },
     "execution_count": 29,
     "metadata": {},
     "output_type": "execute_result"
    }
   ],
   "source": [
    "'tobe' in dictionary \n",
    "#This is just to test whether a word is being found in dictwords like it should be"
   ]
  },
  {
   "cell_type": "code",
   "execution_count": 30,
   "metadata": {},
   "outputs": [
    {
     "data": {
      "text/plain": [
       "True"
      ]
     },
     "execution_count": 30,
     "metadata": {},
     "output_type": "execute_result"
    }
   ],
   "source": [
    "'engaged' in dictionary"
   ]
  },
  {
   "cell_type": "code",
   "execution_count": 31,
   "metadata": {},
   "outputs": [
    {
     "name": "stdout",
     "output_type": "stream",
     "text": [
      "['engaged']\n"
     ]
    }
   ],
   "source": [
    "outcome=[]\n",
    "if 'en-gaged'.replace('-','') in dictwords:\n",
    "        outcome.append('engaged'.replace('-',''))\n",
    "        print(outcome)\n",
    "else:\n",
    "        print('False')"
   ]
  },
  {
   "cell_type": "code",
   "execution_count": 32,
   "metadata": {},
   "outputs": [],
   "source": [
    "##output = []\n",
    "##infile=open(os.path.join(datafolder, 'sn84026365:1848-03-31:ed-1.txt'), mode='r', encoding='utf-8')\n",
    "##file_text=infile.read()\n",
    "##string_text=str(file_text)\n",
    "##split_text=string_text.split()\n",
    "##for line in split_text:\n",
    "    ##if line.replace('-','') in dictwords:\n",
    "        ##output.append(line.replace('-', ''))\n",
    "    ##else:\n",
    "       #3 output.append(line.replace('-',' '))\n",
    "##str_output = ' '.join(output)"
   ]
  },
  {
   "cell_type": "code",
   "execution_count": 33,
   "metadata": {},
   "outputs": [],
   "source": [
    "output.clear()"
   ]
  },
  {
   "cell_type": "code",
   "execution_count": 34,
   "metadata": {},
   "outputs": [
    {
     "name": "stdout",
     "output_type": "stream",
     "text": [
      "None\n"
     ]
    }
   ],
   "source": [
    "x=re.search(r'\\b noc \\b',dictwords)\n",
    "print(x)"
   ]
  },
  {
   "cell_type": "code",
   "execution_count": 35,
   "metadata": {},
   "outputs": [],
   "source": [
    "output = []\n",
    "for f in file_list:\n",
    "    if f.endswith('.txt'):\n",
    "        infile=open(os.path.join(datafolder, f), mode='r', encoding='utf-8')\n",
    "        file_text=infile.read()\n",
    "        string_text=str(file_text)\n",
    "        split_text=string_text.split()\n",
    "        for line in split_text:\n",
    "            if \"-\" in line:\n",
    "                cleaned=line.replace('-','')\n",
    "                if re.search(r\"\\b\"+cleaned+r\"\\b\",dictwords):\n",
    "                    output.append(cleaned)\n",
    "                else:\n",
    "                    output.append(line.replace('-',' '))\n",
    "            else:\n",
    "                output.append(line)\n",
    "        infile.close()\n",
    "        str_output = ' '.join(output)\n",
    "        outfile = open(f, \"w\")\n",
    "        outfile.write(str_output)\n",
    "        outfile.close()\n",
    "        output.clear()"
   ]
  },
  {
   "cell_type": "code",
   "execution_count": null,
   "metadata": {},
   "outputs": [],
   "source": [
    "  if TRUE:\n",
    "                          output.append(line.replace('-', ''))\n",
    "                else:\n",
    "                          output.append(line.replace('-',' '))"
   ]
  },
  {
   "cell_type": "code",
   "execution_count": null,
   "metadata": {},
   "outputs": [],
   "source": [
    "output = []\n",
    "for f in file_list:\n",
    "      if f.endswith('.txt'):\n",
    "        infile=open(os.path.join(datafolder, f), mode='r', encoding='utf-8')\n",
    "        file_text=infile.read()\n",
    "        string_text=str(file_text)\n",
    "        split_text=string_text.split()\n",
    "        for line in split_text:\n",
    "            if line.contains('-'):\n",
    "                re.search(r'\\b + line.replace('-','') + \\b',dictwords)\n",
    "                if true:\n",
    "                          output.append(line.replace('-', ''))\n",
    "                else:\n",
    "                          output.append(line.replace('-',' '))if line.replace('-','') in dictwords:\n",
    "                output.append(line.replace('-', ''))\n",
    "            else:\n",
    "                output.append(line.replace('-',' '))\n",
    "        infile.close()\n",
    "        str_output = ' '.join(output)\n",
    "        outfile = open(f, \"w\")\n",
    "        outfile.write(str_output)\n",
    "        outfile.close()\n",
    "        output.clear()"
   ]
  }
 ],
 "metadata": {
  "kernelspec": {
   "display_name": "Python 3",
   "language": "python",
   "name": "python3"
  },
  "language_info": {
   "codemirror_mode": {
    "name": "ipython",
    "version": 3
   },
   "file_extension": ".py",
   "mimetype": "text/x-python",
   "name": "python",
   "nbconvert_exporter": "python",
   "pygments_lexer": "ipython3",
   "version": "3.7.3"
  }
 },
 "nbformat": 4,
 "nbformat_minor": 2
}
